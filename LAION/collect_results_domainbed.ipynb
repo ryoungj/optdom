{
 "cells": [
  {
   "cell_type": "code",
   "execution_count": 1,
   "id": "791508b4",
   "metadata": {},
   "outputs": [],
   "source": [
    "import numpy as np\n",
    "import json\n",
    "import os\n",
    "import glob\n",
    "import sys\n",
    "from matplotlib import pyplot as plt\n",
    "from pprint import pprint\n",
    "import pandas as pd\n",
    "from IPython.display import display\n",
    "\n",
    "sys.path.append('../DomainBed')\n",
    "from domainbed.lib import misc, reporting\n",
    "from domainbed import datasets\n",
    "from domainbed import algorithms\n",
    "from domainbed.lib.query import Q\n",
    "from domainbed.model_selection import OracleSelectionMethod"
   ]
  },
  {
   "cell_type": "markdown",
   "id": "ad41f226",
   "metadata": {},
   "source": [
    "# Arguments"
   ]
  },
  {
   "cell_type": "code",
   "execution_count": 2,
   "id": "88a64e37",
   "metadata": {},
   "outputs": [],
   "source": [
    "base_output_dir=\"./checkpoints\"\n",
    "setup = \"clip_laion\"\n",
    "\n",
    "dataset_all = ['PACS', 'VLCS', 'OfficeHome', 'TerraIncognita', 'DomainNet']\n",
    "\n",
    "select_method = OracleSelectionMethod"
   ]
  },
  {
   "cell_type": "markdown",
   "id": "f77dfeec",
   "metadata": {},
   "source": [
    "# Helper Functions"
   ]
  },
  {
   "cell_type": "code",
   "execution_count": 3,
   "id": "d5339eed",
   "metadata": {},
   "outputs": [],
   "source": [
    "def pretty(d, indent=0):\n",
    "    for key, value in d.items():\n",
    "        print('\\t' * indent + str(key))\n",
    "        if isinstance(value, dict):\n",
    "             pretty(value, indent+1)\n",
    "        else:\n",
    "             print('\\t' * (indent+1) + str(value))\n",
    "\n",
    "def get_record(output_dir):\n",
    "    print(\"Loading records from:\", output_dir)\n",
    "    records = reporting.load_records(output_dir)\n",
    "    print(\"Total records:\", len(records))\n",
    "\n",
    "    return records\n",
    "\n",
    "def get_results(out_dir, selection_method):\n",
    "    \"\"\"Given all records, print a results table for each dataset.\"\"\"\n",
    "    records = get_record(out_dir)\n",
    "    \n",
    "    grouped_records = reporting.get_grouped_records(records,\n",
    "                                                    group_test_envs=True).map(\n",
    "        lambda group:\n",
    "        {**group, \"sweep_acc\": selection_method.sweep_acc(group[\"records\"], return_extra=True)}\n",
    "        ).filter(lambda g: g[\"sweep_acc\"] is not None)\n",
    "\n",
    "    # read algorithm names and sort (predefined order)\n",
    "    alg_names = Q(records).select(\"args.algorithm\").unique()\n",
    "    assert len(alg_names) == 1\n",
    "    algorithm = alg_names[0]\n",
    "\n",
    "    # read dataset names and sort (lexicographic order)\n",
    "    dataset_names = Q(records).select(\"args.dataset\").unique().sorted()\n",
    "    assert len(dataset_names) == 1\n",
    "    dataset = dataset_names[0]\n",
    "\n",
    "    trial_averages = (grouped_records\n",
    "                      .filter_equals(\"algorithm, dataset\", (algorithm, dataset))\n",
    "                      .group(\"trial_seed\")\n",
    "                      .map(lambda trial_seed, group:\n",
    "#                            group.select(\"sweep_acc\").mean()\n",
    "                           tuple(map(lambda y: sum(y) / float(len(y)), zip(*group.select(\"sweep_acc\"))))\n",
    "                           )\n",
    "                      )\n",
    "    \n",
    "    tgt_all, src_all, tgt_in_all = zip(*trial_averages) \n",
    "    tgt_mean, src_mean, tgt_in_mean = 100 * np.mean(list(tgt_all)), 100 * np.mean(list(src_all)), 100 * np.mean(list(tgt_in_all))\n",
    "    tgt_std, src_std, tgt_in_std = 100 * np.std(list(tgt_all)), 100 * np.std(list(src_all)), 100 * np.std(list(tgt_in_all))\n",
    "    \n",
    "    return (tgt_mean, src_mean, tgt_in_mean), (tgt_std, src_std, tgt_in_std)"
   ]
  },
  {
   "cell_type": "code",
   "execution_count": 4,
   "id": "098eca7f",
   "metadata": {},
   "outputs": [],
   "source": [
    "def plot_result(result_dict, plot_dataset, plot_y='acc_tgt', include=None, exclude=None, plot_std=False):\n",
    "    plt.figure()\n",
    "    sub_result_dict = result_dict[plot_dataset]\n",
    "    plt_xs = []\n",
    "    plt_ys = []\n",
    "    plt_errs = []\n",
    "    \n",
    "    for k, v in sub_result_dict.items():\n",
    "        subsub_result_dict = sub_result_dict[k]\n",
    "        \n",
    "        if include is not None and k not in include:\n",
    "            continue\n",
    "            \n",
    "        if exclude is not None and k in exclude:\n",
    "            continue\n",
    "            \n",
    "        plt_xs.append(k.replace('_', '\\n').replace(\"SupConOutCLIPBottleneckBase\", \"SupConOut\"))\n",
    "        plt_ys.append(subsub_result_dict[plot_y])\n",
    "        plt_errs.append(subsub_result_dict[plot_y + '_std'])\n",
    "    \n",
    "    \n",
    "    if not plot_std:\n",
    "        plt.bar(plt_xs, plt_ys)\n",
    "    else:\n",
    "        plt.bar(plt_xs, plt_ys, yerr=plt_errs)\n",
    "        \n",
    "    for plt_x, plt_y, plt_err in zip(plt_xs, plt_ys, plt_errs):\n",
    "        plt.text(plt_x, plt_y + .25, '{:.1f} +/- {:.1f}'.format(plt_y, plt_err) , color='blue', fontweight='bold')\n",
    "            \n",
    "    \n",
    "    plt.xlabel('Method')\n",
    "    plt.ylabel('Accuracy')\n",
    "    plt.ylim([np.min(plt_ys)-1.0, np.max(plt_ys)+0.5])\n",
    "    plt.title(plot_dataset)\n",
    "        \n",
    "    plt.show()"
   ]
  },
  {
   "cell_type": "markdown",
   "id": "0de790a1",
   "metadata": {},
   "source": [
    "# Get Results"
   ]
  },
  {
   "cell_type": "markdown",
   "id": "automatic-volleyball",
   "metadata": {},
   "source": [
    "Collect all results for each model setup"
   ]
  },
  {
   "cell_type": "code",
   "execution_count": 5,
   "id": "e1f16849",
   "metadata": {},
   "outputs": [
    {
     "data": {
      "text/plain": [
       "{'Pretrained_0_3e-3': 'CLIPPretrained_0_3e-3',\n",
       " 'Tuned_Base_0_3e-3': 'ContrastCLIPBottleneckBase_0_3e-3',\n",
       " 'Tuned_Ent_1_1e-3': 'ContrastCLIPBottleneckEnt_1_1e-3'}"
      ]
     },
     "execution_count": 5,
     "metadata": {},
     "output_type": "execute_result"
    }
   ],
   "source": [
    "base_algorithm_dict = {\n",
    "    'Pretrained': 'CLIPPretrained',\n",
    "    'Tuned_Base': 'ContrastCLIPBottleneckBase',\n",
    "    'Tuned_Ent': 'ContrastCLIPBottleneckEnt'\n",
    "}\n",
    "\n",
    "algorithm_all = {}\n",
    "for base_algorithm_short, base_algorithm in base_algorithm_dict.items():\n",
    "    base_path = f'{base_output_dir}/{setup}_{base_algorithm}_*'\n",
    "    \n",
    "    for path in glob.glob(base_path):\n",
    "        alg_name_short = base_algorithm_short + path.split(base_algorithm)[-1]\n",
    "        alg_name = base_algorithm + path.split(base_algorithm)[-1]\n",
    "        algorithm_all.update({alg_name_short: alg_name})\n",
    "\n",
    "algorithm_all"
   ]
  },
  {
   "cell_type": "code",
   "execution_count": 6,
   "id": "eee3a480",
   "metadata": {},
   "outputs": [
    {
     "name": "stdout",
     "output_type": "stream",
     "text": [
      "Loading records from: ./checkpoints/clip_laion_CLIPPretrained_0_3e-3/eval/PACS\n"
     ]
    },
    {
     "name": "stderr",
     "output_type": "stream",
     "text": [
      "                                                                                \r"
     ]
    },
    {
     "name": "stdout",
     "output_type": "stream",
     "text": [
      "Total records: 20\n",
      "Loading records from: ./checkpoints/clip_laion_ContrastCLIPBottleneckBase_0_3e-3/eval/PACS\n"
     ]
    },
    {
     "name": "stderr",
     "output_type": "stream",
     "text": [
      "                                                                                \r"
     ]
    },
    {
     "name": "stdout",
     "output_type": "stream",
     "text": [
      "Total records: 20\n",
      "Loading records from: ./checkpoints/clip_laion_ContrastCLIPBottleneckEnt_1_1e-3/eval/PACS\n"
     ]
    },
    {
     "name": "stderr",
     "output_type": "stream",
     "text": [
      "                                                                                \r"
     ]
    },
    {
     "name": "stdout",
     "output_type": "stream",
     "text": [
      "Total records: 20\n",
      "Loading records from: ./checkpoints/clip_laion_CLIPPretrained_0_3e-3/eval/VLCS\n"
     ]
    },
    {
     "name": "stderr",
     "output_type": "stream",
     "text": [
      "                                                                                \r"
     ]
    },
    {
     "name": "stdout",
     "output_type": "stream",
     "text": [
      "Total records: 20\n",
      "Loading records from: ./checkpoints/clip_laion_ContrastCLIPBottleneckBase_0_3e-3/eval/VLCS\n"
     ]
    },
    {
     "name": "stderr",
     "output_type": "stream",
     "text": [
      "                                                                                \r"
     ]
    },
    {
     "name": "stdout",
     "output_type": "stream",
     "text": [
      "Total records: 20\n",
      "Loading records from: ./checkpoints/clip_laion_ContrastCLIPBottleneckEnt_1_1e-3/eval/VLCS\n"
     ]
    },
    {
     "name": "stderr",
     "output_type": "stream",
     "text": [
      "                                                                                \r"
     ]
    },
    {
     "name": "stdout",
     "output_type": "stream",
     "text": [
      "Total records: 20\n",
      "Loading records from: ./checkpoints/clip_laion_CLIPPretrained_0_3e-3/eval/OfficeHome\n"
     ]
    },
    {
     "name": "stderr",
     "output_type": "stream",
     "text": [
      "                                                                                \r"
     ]
    },
    {
     "name": "stdout",
     "output_type": "stream",
     "text": [
      "Total records: 20\n",
      "Loading records from: ./checkpoints/clip_laion_ContrastCLIPBottleneckBase_0_3e-3/eval/OfficeHome\n"
     ]
    },
    {
     "name": "stderr",
     "output_type": "stream",
     "text": [
      "                                                                                \r"
     ]
    },
    {
     "name": "stdout",
     "output_type": "stream",
     "text": [
      "Total records: 20\n",
      "Loading records from: ./checkpoints/clip_laion_ContrastCLIPBottleneckEnt_1_1e-3/eval/OfficeHome\n"
     ]
    },
    {
     "name": "stderr",
     "output_type": "stream",
     "text": [
      "                                                                                \r"
     ]
    },
    {
     "name": "stdout",
     "output_type": "stream",
     "text": [
      "Total records: 20\n",
      "Loading records from: ./checkpoints/clip_laion_CLIPPretrained_0_3e-3/eval/TerraIncognita\n"
     ]
    },
    {
     "name": "stderr",
     "output_type": "stream",
     "text": [
      "                                                                                \r"
     ]
    },
    {
     "name": "stdout",
     "output_type": "stream",
     "text": [
      "Total records: 20\n",
      "Loading records from: ./checkpoints/clip_laion_ContrastCLIPBottleneckBase_0_3e-3/eval/TerraIncognita\n"
     ]
    },
    {
     "name": "stderr",
     "output_type": "stream",
     "text": [
      "                                                                                \r"
     ]
    },
    {
     "name": "stdout",
     "output_type": "stream",
     "text": [
      "Total records: 20\n",
      "Loading records from: ./checkpoints/clip_laion_ContrastCLIPBottleneckEnt_1_1e-3/eval/TerraIncognita\n"
     ]
    },
    {
     "name": "stderr",
     "output_type": "stream",
     "text": [
      "                                                                                \r"
     ]
    },
    {
     "name": "stdout",
     "output_type": "stream",
     "text": [
      "Total records: 20\n",
      "Loading records from: ./checkpoints/clip_laion_CLIPPretrained_0_3e-3/eval/DomainNet\n"
     ]
    },
    {
     "name": "stderr",
     "output_type": "stream",
     "text": [
      "                                                                                \r"
     ]
    },
    {
     "name": "stdout",
     "output_type": "stream",
     "text": [
      "Total records: 30\n",
      "Loading records from: ./checkpoints/clip_laion_ContrastCLIPBottleneckBase_0_3e-3/eval/DomainNet\n"
     ]
    },
    {
     "name": "stderr",
     "output_type": "stream",
     "text": [
      "                                                                                \r"
     ]
    },
    {
     "name": "stdout",
     "output_type": "stream",
     "text": [
      "Total records: 30\n",
      "Loading records from: ./checkpoints/clip_laion_ContrastCLIPBottleneckEnt_1_1e-3/eval/DomainNet\n"
     ]
    },
    {
     "name": "stderr",
     "output_type": "stream",
     "text": [
      "                                                                                "
     ]
    },
    {
     "name": "stdout",
     "output_type": "stream",
     "text": [
      "Total records: 30\n"
     ]
    },
    {
     "name": "stderr",
     "output_type": "stream",
     "text": [
      "\r"
     ]
    }
   ],
   "source": [
    "result_dict = {}\n",
    "\n",
    "for dataset in dataset_all:\n",
    "    result_dict[dataset] = {}\n",
    "    sub_result_dict = result_dict[dataset]\n",
    "    \n",
    "    for alg_name, alg_name_long in algorithm_all.items():\n",
    "        sub_result_dict[alg_name] = {}\n",
    "        subsub_result_dict = sub_result_dict[alg_name]\n",
    "        \n",
    "\n",
    "        output_dir = f'{base_output_dir}/{setup}_{alg_name_long}/eval/{dataset}'\n",
    "        \n",
    "        (acc_tgt, acc_src, acc_tgt_in), (acc_tgt_std, acc_src_std, acc_tgt_in_std) = get_results(output_dir, select_method)\n",
    "        subsub_result_dict['acc_tgt'] = acc_tgt\n",
    "        subsub_result_dict['acc_src'] = acc_src\n",
    "        subsub_result_dict['acc_tgt_in'] = acc_tgt_in\n",
    "        subsub_result_dict['acc_diff'] = acc_src - acc_tgt\n",
    "        subsub_result_dict['acc_tgt_std'] = acc_tgt_std\n",
    "        subsub_result_dict['acc_src_std'] = acc_src_std\n",
    "        subsub_result_dict['acc_tgt_in_std'] = acc_tgt_in_std\n"
   ]
  },
  {
   "cell_type": "markdown",
   "id": "e3f78ece",
   "metadata": {},
   "source": [
    "# Plot & Analysis"
   ]
  },
  {
   "cell_type": "markdown",
   "id": "adverse-despite",
   "metadata": {},
   "source": [
    "Finetuning CLIP with entropy bottleneck leads to better domain generalization performance than finetuning without on all datasets. Note that both fientuned models are worse than pretrained CLIP, probably due to the quality of the LAION-400M dataset.\n",
    "\n",
    "The results could be slightly different from those in the paper, due to code cleaning and randomness."
   ]
  },
  {
   "cell_type": "markdown",
   "id": "c3624a38",
   "metadata": {},
   "source": [
    "## PACS"
   ]
  },
  {
   "cell_type": "code",
   "execution_count": 7,
   "id": "revolutionary-biology",
   "metadata": {},
   "outputs": [
    {
     "data": {
      "image/png": "[encoded data removed]",
      "text/plain": [
       "<Figure size 432x288 with 1 Axes>"
      ]
     },
     "metadata": {
      "needs_background": "light"
     },
     "output_type": "display_data"
    }
   ],
   "source": [
    "plot_result(result_dict, 'PACS', plot_y='acc_tgt')"
   ]
  },
  {
   "cell_type": "markdown",
   "id": "4d8e7440",
   "metadata": {},
   "source": [
    "## VLCS"
   ]
  },
  {
   "cell_type": "code",
   "execution_count": 8,
   "id": "06d1223c",
   "metadata": {},
   "outputs": [
    {
     "data": {
      "image/png": "[encoded data removed]",
      "text/plain": [
       "<Figure size 432x288 with 1 Axes>"
      ]
     },
     "metadata": {
      "needs_background": "light"
     },
     "output_type": "display_data"
    }
   ],
   "source": [
    "plot_result(result_dict, 'VLCS', plot_y='acc_tgt')"
   ]
  },
  {
   "cell_type": "markdown",
   "id": "563a051b",
   "metadata": {},
   "source": [
    "## OfficeHome"
   ]
  },
  {
   "cell_type": "code",
   "execution_count": 9,
   "id": "529a9f3e",
   "metadata": {},
   "outputs": [
    {
     "data": {
      "image/png": "[encoded data removed]",
      "text/plain": [
       "<Figure size 432x288 with 1 Axes>"
      ]
     },
     "metadata": {
      "needs_background": "light"
     },
     "output_type": "display_data"
    }
   ],
   "source": [
    "plot_result(result_dict, 'OfficeHome', plot_y='acc_tgt')"
   ]
  },
  {
   "cell_type": "markdown",
   "id": "3cace334",
   "metadata": {},
   "source": [
    "## TerraIncognita"
   ]
  },
  {
   "cell_type": "code",
   "execution_count": 10,
   "id": "5301da3d",
   "metadata": {},
   "outputs": [
    {
     "data": {
      "image/png": "[encoded data removed]",
      "text/plain": [
       "<Figure size 432x288 with 1 Axes>"
      ]
     },
     "metadata": {
      "needs_background": "light"
     },
     "output_type": "display_data"
    }
   ],
   "source": [
    "plot_result(result_dict, 'TerraIncognita', plot_y='acc_tgt')"
   ]
  },
  {
   "cell_type": "markdown",
   "id": "367072c3",
   "metadata": {},
   "source": [
    "# DomainNet"
   ]
  },
  {
   "cell_type": "code",
   "execution_count": 11,
   "id": "96352cbd",
   "metadata": {},
   "outputs": [
    {
     "data": {
      "image/png": "[encoded data removed]",
      "text/plain": [
       "<Figure size 432x288 with 1 Axes>"
      ]
     },
     "metadata": {
      "needs_background": "light"
     },
     "output_type": "display_data"
    }
   ],
   "source": [
    "plot_result(result_dict, 'DomainNet', plot_y='acc_tgt')"
   ]
  },
  {
   "cell_type": "code",
   "execution_count": null,
   "id": "rising-nashville",
   "metadata": {},
   "outputs": [],
   "source": []
  }
 ],
 "metadata": {
  "kernelspec": {
   "display_name": "optdom",
   "language": "python",
   "name": "optdom"
  },
  "language_info": {
   "codemirror_mode": {
    "name": "ipython",
    "version": 3
   },
   "file_extension": ".py",
   "mimetype": "text/x-python",
   "name": "python",
   "nbconvert_exporter": "python",
   "pygments_lexer": "ipython3",
   "version": "3.7.10"
  }
 },
 "nbformat": 4,
 "nbformat_minor": 5
}
