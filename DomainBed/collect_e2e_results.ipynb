{
 "cells": [
  {
   "cell_type": "code",
   "execution_count": 1,
   "id": "3656a8d8",
   "metadata": {},
   "outputs": [],
   "source": [
    "import numpy as np\n",
    "import json\n",
    "import os\n",
    "import glob\n",
    "import sys\n",
    "from pprint import pprint\n",
    "from matplotlib import pyplot as plt\n",
    "\n",
    "from domainbed.lib import misc, reporting\n",
    "from domainbed import datasets\n",
    "from domainbed import algorithms\n",
    "from domainbed.lib.query import Q\n",
    "from domainbed.model_selection import IIDAccuracySelectionMethod, OracleSelectionMethod"
   ]
  },
  {
   "cell_type": "markdown",
   "id": "eef906af",
   "metadata": {},
   "source": [
    "# Arguments"
   ]
  },
  {
   "cell_type": "code",
   "execution_count": 2,
   "id": "565d281f",
   "metadata": {},
   "outputs": [],
   "source": [
    "base_output_dir=\"./checkpoints\"\n",
    "\n",
    "dataset_all = ['PACS', 'VLCS', 'OfficeHome', 'TerraIncognita', 'DomainNet']\n",
    "algorithm_all = {'CondCAD': 'CondCAD'}\n",
    "\n",
    "select_method = OracleSelectionMethod"
   ]
  },
  {
   "cell_type": "markdown",
   "id": "129d8f69",
   "metadata": {},
   "source": [
    "# Helper Functions"
   ]
  },
  {
   "cell_type": "code",
   "execution_count": 3,
   "id": "28bd7ecd",
   "metadata": {},
   "outputs": [],
   "source": [
    "def pretty(d, indent=0):\n",
    "    for key, value in d.items():\n",
    "        print('\\t' * indent + str(key))\n",
    "        if isinstance(value, dict):\n",
    "             pretty(value, indent+1)\n",
    "        else:\n",
    "             print('\\t' * (indent+1) + str(value))\n",
    "\n",
    "def get_record(output_dir):\n",
    "    print(\"Loading records from:\", output_dir)\n",
    "    records = reporting.load_records(output_dir)\n",
    "    print(\"Total records:\", len(records))\n",
    "\n",
    "    return records\n",
    "\n",
    "def get_results(out_dir, selection_method):\n",
    "    \"\"\"Given all records, print a results table for each dataset.\"\"\"\n",
    "    records = get_record(out_dir)\n",
    "    \n",
    "    grouped_records = reporting.get_grouped_records(records,\n",
    "                                                    group_test_envs=True).map(\n",
    "        lambda group:\n",
    "        {**group, \"sweep_acc\": selection_method.sweep_acc(group[\"records\"], return_extra=True)}\n",
    "        ).filter(lambda g: g[\"sweep_acc\"] is not None)\n",
    "\n",
    "    # read algorithm names and sort (predefined order)\n",
    "    alg_names = Q(records).select(\"args.algorithm\").unique()\n",
    "    assert len(alg_names) == 1\n",
    "    algorithm = alg_names[0]\n",
    "\n",
    "    # read dataset names and sort (lexicographic order)\n",
    "    dataset_names = Q(records).select(\"args.dataset\").unique().sorted()\n",
    "    assert len(dataset_names) == 1\n",
    "    dataset = dataset_names[0]\n",
    "\n",
    "    trial_averages = (grouped_records\n",
    "                      .filter_equals(\"algorithm, dataset\", (algorithm, dataset))\n",
    "                      .group(\"trial_seed\")\n",
    "                      .map(lambda trial_seed, group:\n",
    "#                            group.select(\"sweep_acc\").mean()\n",
    "                           tuple(map(lambda y: sum(y) / float(len(y)), zip(*group.select(\"sweep_acc\"))))\n",
    "                           )\n",
    "                      )\n",
    "    \n",
    "    tgt_all, src_all, tgt_in_all = zip(*trial_averages) \n",
    "    tgt_mean, src_mean, tgt_in_mean = 100 * np.mean(list(tgt_all)), 100 * np.mean(list(src_all)), 100 * np.mean(list(tgt_in_all))\n",
    "    tgt_std, src_std, tgt_in_std = 100 * np.std(list(tgt_all)), 100 * np.std(list(src_all)), 100 * np.std(list(tgt_in_all))\n",
    "    \n",
    "    return (tgt_mean, src_mean, tgt_in_mean), (tgt_std, src_std, tgt_in_std)"
   ]
  },
  {
   "cell_type": "markdown",
   "id": "0f801139",
   "metadata": {},
   "source": [
    "# Get Results"
   ]
  },
  {
   "cell_type": "markdown",
   "id": "203dc1e4",
   "metadata": {},
   "source": [
    "Gollect result dict for each setup:"
   ]
  },
  {
   "cell_type": "code",
   "execution_count": 4,
   "id": "4b98af23",
   "metadata": {},
   "outputs": [],
   "source": [
    "def get_result(setup):\n",
    "    result_dict = {}\n",
    "    for dataset in dataset_all:\n",
    "        result_dict[dataset] = {}\n",
    "        sub_result_dict = result_dict[dataset]\n",
    "        basedir = f'{base_output_dir}/{dataset}/{setup}'\n",
    "\n",
    "        for alg_name, alg_name_long in algorithm_all.items():\n",
    "            if alg_name in ['CLIPPretrained', 'CLIPBase']:\n",
    "                sub_result_dict[alg_name] = {}\n",
    "                subsub_result_dict = sub_result_dict[alg_name]\n",
    "\n",
    "                output_dir = os.path.join(basedir, f'{alg_name_long}/base')\n",
    "                print(output_dir)\n",
    "                (acc_tgt, acc_src, acc_tgt_in), (acc_tgt_std, acc_src_std, acc_tgt_in_std) = get_results(output_dir, select_method)\n",
    "                subsub_result_dict['acc_tgt'] = acc_tgt\n",
    "                subsub_result_dict['acc_src'] = acc_src\n",
    "                subsub_result_dict['acc_tgt_in'] = acc_tgt_in\n",
    "                subsub_result_dict['acc_diff'] = acc_src - acc_tgt\n",
    "                subsub_result_dict['acc_tgt_std'] = acc_tgt_std\n",
    "                subsub_result_dict['acc_src_std'] = acc_src_std\n",
    "                subsub_result_dict['acc_tgt_in_std'] = acc_tgt_in_std\n",
    "            else:\n",
    "                lambda_str_array = list(map(lambda s: s.split('_')[-1], glob.glob(os.path.join(basedir, f'{alg_name_long}/*'))))\n",
    "                lambda_str_array = sorted(lambda_str_array, key=lambda r: float(r))\n",
    "                lambda_val_array = np.array(list(map(lambda s: float(s), lambda_str_array)))\n",
    "\n",
    "                for lambda_str in lambda_str_array:\n",
    "                    sub_result_dict[alg_name + '_lambda_{}'.format(lambda_str)] = {}\n",
    "                    subsub_result_dict = sub_result_dict[alg_name + '_lambda_{}'.format(lambda_str)]\n",
    "                    output_dir = os.path.join(basedir, f'{alg_name_long}/lambda_{lambda_str}')\n",
    "\n",
    "                    (acc_tgt, acc_src, acc_tgt_in), (acc_tgt_std, acc_src_std, acc_tgt_in_std) = get_results(output_dir, select_method)\n",
    "\n",
    "\n",
    "                    subsub_result_dict['acc_tgt'] = acc_tgt\n",
    "                    subsub_result_dict['acc_src'] = acc_src\n",
    "                    subsub_result_dict['acc_tgt_in'] = acc_tgt_in\n",
    "                    subsub_result_dict['acc_diff'] = acc_src - acc_tgt\n",
    "                    subsub_result_dict['acc_tgt_std'] = acc_tgt_std\n",
    "                    subsub_result_dict['acc_src_std'] = acc_src_std\n",
    "                    subsub_result_dict['acc_tgt_in_std'] = acc_tgt_in_std\n",
    "                    \n",
    "    return result_dict\n"
   ]
  },
  {
   "cell_type": "code",
   "execution_count": 5,
   "id": "linear-athletics",
   "metadata": {},
   "outputs": [
    {
     "name": "stdout",
     "output_type": "stream",
     "text": [
      "Loading records from: ./checkpoints/PACS/e2e_dombed/CondCAD/lambda_0\n"
     ]
    },
    {
     "name": "stderr",
     "output_type": "stream",
     "text": [
      "                                                                                \r"
     ]
    },
    {
     "name": "stdout",
     "output_type": "stream",
     "text": [
      "Total records: 4350\n",
      "Loading records from: ./checkpoints/PACS/e2e_dombed/CondCAD/lambda_1e-5\n"
     ]
    },
    {
     "name": "stderr",
     "output_type": "stream",
     "text": [
      "                                                                                \r"
     ]
    },
    {
     "name": "stdout",
     "output_type": "stream",
     "text": [
      "Total records: 4357\n",
      "Loading records from: ./checkpoints/VLCS/e2e_dombed/CondCAD/lambda_0\n"
     ]
    },
    {
     "name": "stderr",
     "output_type": "stream",
     "text": [
      "                                                                                \r"
     ]
    },
    {
     "name": "stdout",
     "output_type": "stream",
     "text": [
      "Total records: 4736\n",
      "Loading records from: ./checkpoints/VLCS/e2e_dombed/CondCAD/lambda_1e-5\n"
     ]
    },
    {
     "name": "stderr",
     "output_type": "stream",
     "text": [
      "                                                                                \r"
     ]
    },
    {
     "name": "stdout",
     "output_type": "stream",
     "text": [
      "Total records: 4418\n",
      "Loading records from: ./checkpoints/OfficeHome/e2e_dombed/CondCAD/lambda_0\n"
     ]
    },
    {
     "name": "stderr",
     "output_type": "stream",
     "text": [
      "                                                                                \r"
     ]
    },
    {
     "name": "stdout",
     "output_type": "stream",
     "text": [
      "Total records: 4329\n",
      "Loading records from: ./checkpoints/OfficeHome/e2e_dombed/CondCAD/lambda_1e-5\n"
     ]
    },
    {
     "name": "stderr",
     "output_type": "stream",
     "text": [
      "                                                                                \r"
     ]
    },
    {
     "name": "stdout",
     "output_type": "stream",
     "text": [
      "Total records: 4358\n",
      "Loading records from: ./checkpoints/TerraIncognita/e2e_dombed/CondCAD/lambda_0\n"
     ]
    },
    {
     "name": "stderr",
     "output_type": "stream",
     "text": [
      "                                                                                \r"
     ]
    },
    {
     "name": "stdout",
     "output_type": "stream",
     "text": [
      "Total records: 4356\n",
      "Loading records from: ./checkpoints/TerraIncognita/e2e_dombed/CondCAD/lambda_1e-5\n"
     ]
    },
    {
     "name": "stderr",
     "output_type": "stream",
     "text": [
      "                                                                                \r"
     ]
    },
    {
     "name": "stdout",
     "output_type": "stream",
     "text": [
      "Total records: 4332\n",
      "Loading records from: ./checkpoints/DomainNet/e2e_dombed/CondCAD/lambda_0\n"
     ]
    },
    {
     "name": "stderr",
     "output_type": "stream",
     "text": [
      "                                                                                \r"
     ]
    },
    {
     "name": "stdout",
     "output_type": "stream",
     "text": [
      "Total records: 315\n",
      "Loading records from: ./checkpoints/DomainNet/e2e_dombed/CondCAD/lambda_1e-5\n"
     ]
    },
    {
     "name": "stderr",
     "output_type": "stream",
     "text": [
      "                                                                                "
     ]
    },
    {
     "name": "stdout",
     "output_type": "stream",
     "text": [
      "Total records: 341\n"
     ]
    },
    {
     "name": "stderr",
     "output_type": "stream",
     "text": [
      "\r"
     ]
    }
   ],
   "source": [
    "result_dict = get_result('e2e_dombed')"
   ]
  },
  {
   "cell_type": "code",
   "execution_count": 6,
   "id": "03e9343c",
   "metadata": {},
   "outputs": [
    {
     "name": "stdout",
     "output_type": "stream",
     "text": [
      "PACS\n",
      "\tCondCAD_lambda_0\n",
      "\t\tacc_tgt\n",
      "\t\t\t86.33591410627369\n",
      "\t\tacc_src\n",
      "\t\t\t95.16513704448127\n",
      "\t\tacc_tgt_in\n",
      "\t\t\t86.33591410627369\n",
      "\t\tacc_diff\n",
      "\t\t\t8.829222938207579\n",
      "\t\tacc_tgt_std\n",
      "\t\t\t0.6791788822747292\n",
      "\t\tacc_src_std\n",
      "\t\t\t0.45871507040448006\n",
      "\t\tacc_tgt_in_std\n",
      "\t\t\t0.6791788822747292\n",
      "\tCondCAD_lambda_1e-5\n",
      "\t\tacc_tgt\n",
      "\t\t\t86.55205805186893\n",
      "\t\tacc_src\n",
      "\t\t\t95.08893459917446\n",
      "\t\tacc_tgt_in\n",
      "\t\t\t86.55205805186893\n",
      "\t\tacc_diff\n",
      "\t\t\t8.536876547305539\n",
      "\t\tacc_tgt_std\n",
      "\t\t\t0.9810885154184971\n",
      "\t\tacc_src_std\n",
      "\t\t\t0.8578185763711921\n",
      "\t\tacc_tgt_in_std\n",
      "\t\t\t0.9810885154184971\n",
      "VLCS\n",
      "\tCondCAD_lambda_0\n",
      "\t\tacc_tgt\n",
      "\t\t\t77.41422831677936\n",
      "\t\tacc_src\n",
      "\t\t\t83.34467023367367\n",
      "\t\tacc_tgt_in\n",
      "\t\t\t77.41422831677936\n",
      "\t\tacc_diff\n",
      "\t\t\t5.93044191689431\n",
      "\t\tacc_tgt_std\n",
      "\t\t\t0.43339674909050313\n",
      "\t\tacc_src_std\n",
      "\t\t\t1.0809741926668301\n",
      "\t\tacc_tgt_in_std\n",
      "\t\t\t0.43339674909050313\n",
      "\tCondCAD_lambda_1e-5\n",
      "\t\tacc_tgt\n",
      "\t\t\t78.04251944509234\n",
      "\t\tacc_src\n",
      "\t\t\t83.7188189021876\n",
      "\t\tacc_tgt_in\n",
      "\t\t\t78.04251944509234\n",
      "\t\tacc_diff\n",
      "\t\t\t5.6762994570952685\n",
      "\t\tacc_tgt_std\n",
      "\t\t\t0.298538031227598\n",
      "\t\tacc_src_std\n",
      "\t\t\t0.8008362550358982\n",
      "\t\tacc_tgt_in_std\n",
      "\t\t\t0.298538031227598\n",
      "OfficeHome\n",
      "\tCondCAD_lambda_0\n",
      "\t\tacc_tgt\n",
      "\t\t\t65.84778010441134\n",
      "\t\tacc_src\n",
      "\t\t\t80.16764695640651\n",
      "\t\tacc_tgt_in\n",
      "\t\t\t65.84778010441134\n",
      "\t\tacc_diff\n",
      "\t\t\t14.319866851995172\n",
      "\t\tacc_tgt_std\n",
      "\t\t\t0.32553945841453363\n",
      "\t\tacc_src_std\n",
      "\t\t\t0.24135134449820572\n",
      "\t\tacc_tgt_in_std\n",
      "\t\t\t0.32553945841453363\n",
      "\tCondCAD_lambda_1e-5\n",
      "\t\tacc_tgt\n",
      "\t\t\t67.85918532939824\n",
      "\t\tacc_src\n",
      "\t\t\t81.30596963567393\n",
      "\t\tacc_tgt_in\n",
      "\t\t\t67.85918532939824\n",
      "\t\tacc_diff\n",
      "\t\t\t13.446784306275688\n",
      "\t\tacc_tgt_std\n",
      "\t\t\t0.575790940853746\n",
      "\t\tacc_src_std\n",
      "\t\t\t0.3366381229135932\n",
      "\t\tacc_tgt_in_std\n",
      "\t\t\t0.575790940853746\n",
      "TerraIncognita\n",
      "\tCondCAD_lambda_0\n",
      "\t\tacc_tgt\n",
      "\t\t\t52.460940152287975\n",
      "\t\tacc_src\n",
      "\t\t\t86.00896913365709\n",
      "\t\tacc_tgt_in\n",
      "\t\t\t52.460940152287975\n",
      "\t\tacc_diff\n",
      "\t\t\t33.548028981369114\n",
      "\t\tacc_tgt_std\n",
      "\t\t\t1.5838533965565782\n",
      "\t\tacc_src_std\n",
      "\t\t\t0.99365495772129\n",
      "\t\tacc_tgt_in_std\n",
      "\t\t\t1.5838533965565782\n",
      "\tCondCAD_lambda_1e-5\n",
      "\t\tacc_tgt\n",
      "\t\t\t53.125569377727814\n",
      "\t\tacc_src\n",
      "\t\t\t86.54760329403994\n",
      "\t\tacc_tgt_in\n",
      "\t\t\t53.125569377727814\n",
      "\t\tacc_diff\n",
      "\t\t\t33.42203391631213\n",
      "\t\tacc_tgt_std\n",
      "\t\t\t0.5588914878421977\n",
      "\t\tacc_src_std\n",
      "\t\t\t1.4540338252186045\n",
      "\t\tacc_tgt_in_std\n",
      "\t\t\t0.5588914878421977\n",
      "DomainNet\n",
      "\tCondCAD_lambda_0\n",
      "\t\tacc_tgt\n",
      "\t\t\t40.03782805292275\n",
      "\t\tacc_src\n",
      "\t\t\t55.24246739174009\n",
      "\t\tacc_tgt_in\n",
      "\t\t\t40.03782805292275\n",
      "\t\tacc_diff\n",
      "\t\t\t15.204639338817344\n",
      "\t\tacc_tgt_std\n",
      "\t\t\t0.8941260606158961\n",
      "\t\tacc_src_std\n",
      "\t\t\t1.4082954710045983\n",
      "\t\tacc_tgt_in_std\n",
      "\t\t\t0.8941260606158961\n",
      "\tCondCAD_lambda_1e-5\n",
      "\t\tacc_tgt\n",
      "\t\t\t40.950161281559346\n",
      "\t\tacc_src\n",
      "\t\t\t57.099750657536234\n",
      "\t\tacc_tgt_in\n",
      "\t\t\t40.950161281559346\n",
      "\t\tacc_diff\n",
      "\t\t\t16.149589375976888\n",
      "\t\tacc_tgt_std\n",
      "\t\t\t0.16594064896396712\n",
      "\t\tacc_src_std\n",
      "\t\t\t0.28422488829345144\n",
      "\t\tacc_tgt_in_std\n",
      "\t\t\t0.16594064896396712\n"
     ]
    }
   ],
   "source": [
    "pretty(result_dict)"
   ]
  },
  {
   "cell_type": "markdown",
   "id": "e9fcf8a9",
   "metadata": {},
   "source": [
    "# Plot & Analysis"
   ]
  },
  {
   "cell_type": "code",
   "execution_count": 7,
   "id": "fcee6a26",
   "metadata": {},
   "outputs": [],
   "source": [
    "def plot_result(result_dict, plot_dataset, plot_y='acc_tgt', include=None, exclude=None, plot_std=False):\n",
    "    plt.figure()\n",
    "    sub_result_dict = result_dict[plot_dataset]\n",
    "    plt_xs = []\n",
    "    plt_ys = []\n",
    "    plt_errs = []\n",
    "    \n",
    "    for k, v in sub_result_dict.items():\n",
    "        subsub_result_dict = sub_result_dict[k]\n",
    "        \n",
    "        if include is not None and k not in include:\n",
    "            continue\n",
    "            \n",
    "        if exclude is not None and k in exclude:\n",
    "            continue\n",
    "            \n",
    "        plt_xs.append(k.replace('_', '\\n'))\n",
    "        plt_ys.append(subsub_result_dict[plot_y])\n",
    "        plt_errs.append(subsub_result_dict[plot_y + '_std'])\n",
    "    \n",
    "    \n",
    "    if not plot_std:\n",
    "        plt.bar(plt_xs, plt_ys)\n",
    "    else:\n",
    "        plt.bar(plt_xs, plt_ys, yerr=plt_errs)\n",
    "    \n",
    "    for plt_x, plt_y, plt_err in zip(plt_xs, plt_ys, plt_errs):\n",
    "        plt.text(plt_x, plt_y + .25, '{:.1f} +/- {:.1f}'.format(plt_y, plt_err) , color='blue', fontweight='bold')\n",
    "            \n",
    "    \n",
    "    plt.xlabel('Method')\n",
    "    plt.ylabel('Accuracy')\n",
    "    plt.ylim([np.min(plt_ys)-0.5, np.max(plt_ys)+0.5])\n",
    "        \n",
    "    plt.show()"
   ]
  },
  {
   "cell_type": "markdown",
   "id": "interracial-medium",
   "metadata": {},
   "source": [
    "Visualize the results. Note that the results may be slightly different from the paper due to code cleaning. \n",
    "\n",
    "Note that as the claim of our paper, the algorithms in this setup lack access to the information of the target domain, so we don't expect our bottlenecks and other algorithms to necessarily outperform ERM.\n",
    "\n",
    "However, we surprisingly find training our CAD bottleneck (lambda = 1e-5) does lead to consistent improvement over training without (lambda = 0)."
   ]
  },
  {
   "cell_type": "markdown",
   "id": "cc4070f4",
   "metadata": {},
   "source": [
    "## VLCS"
   ]
  },
  {
   "cell_type": "code",
   "execution_count": 9,
   "id": "296b5549",
   "metadata": {
    "scrolled": true
   },
   "outputs": [
    {
     "data": {
      "image/png": "[encoded data removed]",
      "text/plain": [
       "<Figure size 432x288 with 1 Axes>"
      ]
     },
     "metadata": {
      "needs_background": "light"
     },
     "output_type": "display_data"
    }
   ],
   "source": [
    "plot_result(result_dict, plot_dataset='VLCS', plot_y='acc_tgt', \n",
    "            exclude=None, plot_std=True)"
   ]
  },
  {
   "cell_type": "markdown",
   "id": "15052766",
   "metadata": {},
   "source": [
    "## PACS"
   ]
  },
  {
   "cell_type": "code",
   "execution_count": 8,
   "id": "a079371b",
   "metadata": {},
   "outputs": [
    {
     "data": {
      "image/png": "[encoded data removed]",
      "text/plain": [
       "<Figure size 432x288 with 1 Axes>"
      ]
     },
     "metadata": {
      "needs_background": "light"
     },
     "output_type": "display_data"
    }
   ],
   "source": [
    "plot_result(result_dict, plot_dataset='PACS', plot_y='acc_tgt', \n",
    "            exclude=None, plot_std=True)"
   ]
  },
  {
   "cell_type": "markdown",
   "id": "8bd6fec1",
   "metadata": {},
   "source": [
    "## OfficeHome"
   ]
  },
  {
   "cell_type": "code",
   "execution_count": 10,
   "id": "ed62ab7f",
   "metadata": {},
   "outputs": [
    {
     "data": {
      "image/png": "[encoded data removed]",
      "text/plain": [
       "<Figure size 432x288 with 1 Axes>"
      ]
     },
     "metadata": {
      "needs_background": "light"
     },
     "output_type": "display_data"
    }
   ],
   "source": [
    "plot_result(result_dict, plot_dataset='OfficeHome', plot_y='acc_tgt', \n",
    "            exclude=None, plot_std=True)"
   ]
  },
  {
   "cell_type": "markdown",
   "id": "1f525be6",
   "metadata": {},
   "source": [
    "## TerraIncognita"
   ]
  },
  {
   "cell_type": "code",
   "execution_count": 11,
   "id": "6ca77b17",
   "metadata": {},
   "outputs": [
    {
     "data": {
      "image/png": "[encoded data removed]",
      "text/plain": [
       "<Figure size 432x288 with 1 Axes>"
      ]
     },
     "metadata": {
      "needs_background": "light"
     },
     "output_type": "display_data"
    }
   ],
   "source": [
    "plot_result(result_dict, plot_dataset='TerraIncognita', plot_y='acc_tgt', \n",
    "            exclude=None, plot_std=True)"
   ]
  },
  {
   "cell_type": "markdown",
   "id": "de1fb526",
   "metadata": {},
   "source": [
    "# DomainNet"
   ]
  },
  {
   "cell_type": "code",
   "execution_count": 12,
   "id": "26cf40ca",
   "metadata": {},
   "outputs": [
    {
     "data": {
      "image/png": "[encoded data removed]",
      "text/plain": [
       "<Figure size 432x288 with 1 Axes>"
      ]
     },
     "metadata": {
      "needs_background": "light"
     },
     "output_type": "display_data"
    }
   ],
   "source": [
    "plot_result(result_dict, plot_dataset='DomainNet', plot_y='acc_tgt', \n",
    "            exclude=None, plot_std=True)"
   ]
  },
  {
   "cell_type": "code",
   "execution_count": null,
   "id": "550fabb8",
   "metadata": {},
   "outputs": [],
   "source": []
  }
 ],
 "metadata": {
  "kernelspec": {
   "display_name": "optdom",
   "language": "python",
   "name": "optdom"
  },
  "language_info": {
   "codemirror_mode": {
    "name": "ipython",
    "version": 3
   },
   "file_extension": ".py",
   "mimetype": "text/x-python",
   "name": "python",
   "nbconvert_exporter": "python",
   "pygments_lexer": "ipython3",
   "version": "3.7.10"
  }
 },
 "nbformat": 4,
 "nbformat_minor": 5
}
