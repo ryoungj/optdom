{
 "cells": [
  {
   "cell_type": "code",
   "execution_count": 1,
   "id": "791508b4",
   "metadata": {},
   "outputs": [],
   "source": [
    "import numpy as np\n",
    "import json\n",
    "import os\n",
    "import glob\n",
    "import sys\n",
    "from pprint import pprint\n",
    "from matplotlib import pyplot as plt\n",
    "\n",
    "from domainbed.lib import misc, reporting\n",
    "from domainbed import datasets\n",
    "from domainbed import algorithms\n",
    "from domainbed.lib.query import Q\n",
    "from domainbed.model_selection import OracleSelectionMethod"
   ]
  },
  {
   "cell_type": "markdown",
   "id": "ad41f226",
   "metadata": {},
   "source": [
    "# Arguments"
   ]
  },
  {
   "cell_type": "code",
   "execution_count": 2,
   "id": "88a64e37",
   "metadata": {},
   "outputs": [],
   "source": [
    "base_output_dir=\"./checkpoints\"\n",
    "dataset_all = ['PACS', 'VLCS', 'OfficeHome', 'TerraIncognita', 'DomainNet']\n",
    "algorithm_all = {'CLIPPretrained': 'CLIPPretrained',\n",
    "                 'CLIPBase': 'SupCLIPBottleneckBase',\n",
    "                 'CLIPCondCAD': 'SupCLIPBottleneckCondCAD'}\n",
    "\n",
    "select_method = OracleSelectionMethod"
   ]
  },
  {
   "cell_type": "markdown",
   "id": "f77dfeec",
   "metadata": {},
   "source": [
    "# Helper Functions"
   ]
  },
  {
   "cell_type": "code",
   "execution_count": 3,
   "id": "d5339eed",
   "metadata": {},
   "outputs": [],
   "source": [
    "def pretty(d, indent=0):\n",
    "    for key, value in d.items():\n",
    "        print('\\t' * indent + str(key))\n",
    "        if isinstance(value, dict):\n",
    "             pretty(value, indent+1)\n",
    "        else:\n",
    "             print('\\t' * (indent+1) + str(value))\n",
    "\n",
    "def get_record(output_dir):\n",
    "    print(\"Loading records from:\", output_dir)\n",
    "    records = reporting.load_records(output_dir)\n",
    "    print(\"Total records:\", len(records))\n",
    "\n",
    "    return records\n",
    "\n",
    "def get_results(out_dir, selection_method):\n",
    "    \"\"\"Given all records, print a results table for each dataset.\"\"\"\n",
    "    records = get_record(out_dir)\n",
    "    \n",
    "    grouped_records = reporting.get_grouped_records(records,\n",
    "                                                    group_test_envs=True).map(\n",
    "        lambda group:\n",
    "        {**group, \"sweep_acc\": selection_method.sweep_acc(group[\"records\"], return_extra=True)}\n",
    "        ).filter(lambda g: g[\"sweep_acc\"] is not None)\n",
    "\n",
    "    # read algorithm names and sort (predefined order)\n",
    "    alg_names = Q(records).select(\"args.algorithm\").unique()\n",
    "    assert len(alg_names) == 1\n",
    "    algorithm = alg_names[0]\n",
    "\n",
    "    # read dataset names and sort (lexicographic order)\n",
    "    dataset_names = Q(records).select(\"args.dataset\").unique().sorted()\n",
    "    assert len(dataset_names) == 1\n",
    "    dataset = dataset_names[0]\n",
    "\n",
    "    trial_averages = (grouped_records\n",
    "                      .filter_equals(\"algorithm, dataset\", (algorithm, dataset))\n",
    "                      .group(\"trial_seed\")\n",
    "                      .map(lambda trial_seed, group:\n",
    "#                            group.select(\"sweep_acc\").mean()\n",
    "                           tuple(map(lambda y: sum(y) / float(len(y)), zip(*group.select(\"sweep_acc\"))))\n",
    "                           )\n",
    "                      )\n",
    "    \n",
    "    tgt_all, src_all, tgt_in_all = zip(*trial_averages) \n",
    "    tgt_mean, src_mean, tgt_in_mean = 100 * np.mean(list(tgt_all)), 100 * np.mean(list(src_all)), 100 * np.mean(list(tgt_in_all))\n",
    "    tgt_std, src_std, tgt_in_std = 100 * np.std(list(tgt_all)), 100 * np.std(list(src_all)), 100 * np.std(list(tgt_in_all))\n",
    "    \n",
    "    return (tgt_mean, src_mean, tgt_in_mean), (tgt_std, src_std, tgt_in_std)"
   ]
  },
  {
   "cell_type": "markdown",
   "id": "0de790a1",
   "metadata": {},
   "source": [
    "# Collect Results"
   ]
  },
  {
   "cell_type": "markdown",
   "id": "suitable-sullivan",
   "metadata": {},
   "source": [
    "Collect the result dict for each setup:"
   ]
  },
  {
   "cell_type": "code",
   "execution_count": 4,
   "id": "british-overall",
   "metadata": {},
   "outputs": [],
   "source": [
    "def get_result(setup):\n",
    "    result_dict = {}\n",
    "    for dataset in dataset_all:\n",
    "        result_dict[dataset] = {}\n",
    "        sub_result_dict = result_dict[dataset]\n",
    "        basedir = f'{base_output_dir}/{dataset}/{setup}'\n",
    "\n",
    "        for alg_name, alg_name_long in algorithm_all.items():\n",
    "            if alg_name in ['CLIPPretrained', 'CLIPBase']:\n",
    "                sub_result_dict[alg_name] = {}\n",
    "                subsub_result_dict = sub_result_dict[alg_name]\n",
    "\n",
    "                output_dir = os.path.join(basedir, f'{alg_name_long}/base')\n",
    "                print(output_dir)\n",
    "                (acc_tgt, acc_src, acc_tgt_in), (acc_tgt_std, acc_src_std, acc_tgt_in_std) = get_results(output_dir, select_method)\n",
    "                subsub_result_dict['acc_tgt'] = acc_tgt\n",
    "                subsub_result_dict['acc_src'] = acc_src\n",
    "                subsub_result_dict['acc_tgt_in'] = acc_tgt_in\n",
    "                subsub_result_dict['acc_diff'] = acc_src - acc_tgt\n",
    "                subsub_result_dict['acc_tgt_std'] = acc_tgt_std\n",
    "                subsub_result_dict['acc_src_std'] = acc_src_std\n",
    "                subsub_result_dict['acc_tgt_in_std'] = acc_tgt_in_std\n",
    "            else:\n",
    "                lambda_str_array = list(map(lambda s: s.split('_')[-1], glob.glob(os.path.join(basedir, f'{alg_name_long}/*'))))\n",
    "                lambda_str_array = sorted(lambda_str_array, key=lambda r: float(r))\n",
    "                lambda_val_array = np.array(list(map(lambda s: float(s), lambda_str_array)))\n",
    "\n",
    "                for lambda_str in lambda_str_array:\n",
    "                    sub_result_dict[alg_name + '_lambda_{}'.format(lambda_str)] = {}\n",
    "                    subsub_result_dict = sub_result_dict[alg_name + '_lambda_{}'.format(lambda_str)]\n",
    "                    output_dir = os.path.join(basedir, f'{alg_name_long}/lambda_{lambda_str}')\n",
    "\n",
    "                    (acc_tgt, acc_src, acc_tgt_in), (acc_tgt_std, acc_src_std, acc_tgt_in_std) = get_results(output_dir, select_method)\n",
    "\n",
    "\n",
    "                    subsub_result_dict['acc_tgt'] = acc_tgt\n",
    "                    subsub_result_dict['acc_src'] = acc_src\n",
    "                    subsub_result_dict['acc_tgt_in'] = acc_tgt_in\n",
    "                    subsub_result_dict['acc_diff'] = acc_src - acc_tgt\n",
    "                    subsub_result_dict['acc_tgt_std'] = acc_tgt_std\n",
    "                    subsub_result_dict['acc_src_std'] = acc_src_std\n",
    "                    subsub_result_dict['acc_tgt_in_std'] = acc_tgt_in_std\n",
    "                    \n",
    "    return result_dict\n"
   ]
  },
  {
   "cell_type": "markdown",
   "id": "russian-retro",
   "metadata": {},
   "source": [
    "Result with CLIP-RN50 (CLIP S in our paper):"
   ]
  },
  {
   "cell_type": "code",
   "execution_count": 5,
   "id": "eee3a480",
   "metadata": {},
   "outputs": [
    {
     "name": "stdout",
     "output_type": "stream",
     "text": [
      "./checkpoints/PACS/clip_resnet/CLIPPretrained/base\n",
      "Loading records from: ./checkpoints/PACS/clip_resnet/CLIPPretrained/base\n"
     ]
    },
    {
     "name": "stderr",
     "output_type": "stream",
     "text": [
      "                                                                                \r"
     ]
    },
    {
     "name": "stdout",
     "output_type": "stream",
     "text": [
      "Total records: 20\n",
      "./checkpoints/PACS/clip_resnet/SupCLIPBottleneckBase/base\n",
      "Loading records from: ./checkpoints/PACS/clip_resnet/SupCLIPBottleneckBase/base\n"
     ]
    },
    {
     "name": "stderr",
     "output_type": "stream",
     "text": [
      "                                                                                \r"
     ]
    },
    {
     "name": "stdout",
     "output_type": "stream",
     "text": [
      "Total records: 2000\n",
      "Loading records from: ./checkpoints/PACS/clip_resnet/SupCLIPBottleneckCondCAD/lambda_1e-2\n"
     ]
    },
    {
     "name": "stderr",
     "output_type": "stream",
     "text": [
      "                                                                                \r"
     ]
    },
    {
     "name": "stdout",
     "output_type": "stream",
     "text": [
      "Total records: 2000\n",
      "./checkpoints/VLCS/clip_resnet/CLIPPretrained/base\n",
      "Loading records from: ./checkpoints/VLCS/clip_resnet/CLIPPretrained/base\n"
     ]
    },
    {
     "name": "stderr",
     "output_type": "stream",
     "text": [
      "                                                                                \r"
     ]
    },
    {
     "name": "stdout",
     "output_type": "stream",
     "text": [
      "Total records: 20\n",
      "./checkpoints/VLCS/clip_resnet/SupCLIPBottleneckBase/base\n",
      "Loading records from: ./checkpoints/VLCS/clip_resnet/SupCLIPBottleneckBase/base\n"
     ]
    },
    {
     "name": "stderr",
     "output_type": "stream",
     "text": [
      "                                                                                \r"
     ]
    },
    {
     "name": "stdout",
     "output_type": "stream",
     "text": [
      "Total records: 2000\n",
      "Loading records from: ./checkpoints/VLCS/clip_resnet/SupCLIPBottleneckCondCAD/lambda_1e-2\n"
     ]
    },
    {
     "name": "stderr",
     "output_type": "stream",
     "text": [
      "                                                                                \r"
     ]
    },
    {
     "name": "stdout",
     "output_type": "stream",
     "text": [
      "Total records: 2000\n",
      "./checkpoints/OfficeHome/clip_resnet/CLIPPretrained/base\n",
      "Loading records from: ./checkpoints/OfficeHome/clip_resnet/CLIPPretrained/base\n"
     ]
    },
    {
     "name": "stderr",
     "output_type": "stream",
     "text": [
      "                                                                                \r"
     ]
    },
    {
     "name": "stdout",
     "output_type": "stream",
     "text": [
      "Total records: 20\n",
      "./checkpoints/OfficeHome/clip_resnet/SupCLIPBottleneckBase/base\n",
      "Loading records from: ./checkpoints/OfficeHome/clip_resnet/SupCLIPBottleneckBase/base\n"
     ]
    },
    {
     "name": "stderr",
     "output_type": "stream",
     "text": [
      "                                                                                \r"
     ]
    },
    {
     "name": "stdout",
     "output_type": "stream",
     "text": [
      "Total records: 200\n",
      "Loading records from: ./checkpoints/OfficeHome/clip_resnet/SupCLIPBottleneckCondCAD/lambda_1e-2\n"
     ]
    },
    {
     "name": "stderr",
     "output_type": "stream",
     "text": [
      "                                                                                \r"
     ]
    },
    {
     "name": "stdout",
     "output_type": "stream",
     "text": [
      "Total records: 200\n",
      "./checkpoints/TerraIncognita/clip_resnet/CLIPPretrained/base\n",
      "Loading records from: ./checkpoints/TerraIncognita/clip_resnet/CLIPPretrained/base\n"
     ]
    },
    {
     "name": "stderr",
     "output_type": "stream",
     "text": [
      "                                                                                \r"
     ]
    },
    {
     "name": "stdout",
     "output_type": "stream",
     "text": [
      "Total records: 20\n",
      "./checkpoints/TerraIncognita/clip_resnet/SupCLIPBottleneckBase/base\n",
      "Loading records from: ./checkpoints/TerraIncognita/clip_resnet/SupCLIPBottleneckBase/base\n"
     ]
    },
    {
     "name": "stderr",
     "output_type": "stream",
     "text": [
      "                                                                                \r"
     ]
    },
    {
     "name": "stdout",
     "output_type": "stream",
     "text": [
      "Total records: 2169\n",
      "Loading records from: ./checkpoints/TerraIncognita/clip_resnet/SupCLIPBottleneckCondCAD/lambda_1e-2\n"
     ]
    },
    {
     "name": "stderr",
     "output_type": "stream",
     "text": [
      "                                                                                \r"
     ]
    },
    {
     "name": "stdout",
     "output_type": "stream",
     "text": [
      "Total records: 2122\n",
      "./checkpoints/DomainNet/clip_resnet/CLIPPretrained/base\n",
      "Loading records from: ./checkpoints/DomainNet/clip_resnet/CLIPPretrained/base\n"
     ]
    },
    {
     "name": "stderr",
     "output_type": "stream",
     "text": [
      "                                                                                \r"
     ]
    },
    {
     "name": "stdout",
     "output_type": "stream",
     "text": [
      "Total records: 30\n",
      "./checkpoints/DomainNet/clip_resnet/SupCLIPBottleneckBase/base\n",
      "Loading records from: ./checkpoints/DomainNet/clip_resnet/SupCLIPBottleneckBase/base\n"
     ]
    },
    {
     "name": "stderr",
     "output_type": "stream",
     "text": [
      "                                                                                \r"
     ]
    },
    {
     "name": "stdout",
     "output_type": "stream",
     "text": [
      "Total records: 300\n",
      "Loading records from: ./checkpoints/DomainNet/clip_resnet/SupCLIPBottleneckCondCAD/lambda_1\n"
     ]
    },
    {
     "name": "stderr",
     "output_type": "stream",
     "text": [
      "                                                                                "
     ]
    },
    {
     "name": "stdout",
     "output_type": "stream",
     "text": [
      "Total records: 300\n"
     ]
    },
    {
     "name": "stderr",
     "output_type": "stream",
     "text": [
      "\r"
     ]
    }
   ],
   "source": [
    "resnet_result_dict = get_result('clip_resnet')"
   ]
  },
  {
   "cell_type": "code",
   "execution_count": 6,
   "id": "c045c7e9",
   "metadata": {},
   "outputs": [
    {
     "name": "stdout",
     "output_type": "stream",
     "text": [
      "PACS\n",
      "\tCLIPPretrained\n",
      "\t\tacc_tgt\n",
      "\t\t\t90.28137968663346\n",
      "\t\tacc_src\n",
      "\t\t\t96.3824086169736\n",
      "\t\tacc_tgt_in\n",
      "\t\t\t90.28137968663346\n",
      "\t\tacc_diff\n",
      "\t\t\t6.101028930340149\n",
      "\t\tacc_tgt_std\n",
      "\t\t\t0.21754703716146506\n",
      "\t\tacc_src_std\n",
      "\t\t\t0.22848149248597874\n",
      "\t\tacc_tgt_in_std\n",
      "\t\t\t0.21754703716146506\n",
      "\tCLIPBase\n",
      "\t\tacc_tgt\n",
      "\t\t\t91.32533768704931\n",
      "\t\tacc_src\n",
      "\t\t\t96.40144610847135\n",
      "\t\tacc_tgt_in\n",
      "\t\t\t91.32533768704931\n",
      "\t\tacc_diff\n",
      "\t\t\t5.076108421422035\n",
      "\t\tacc_tgt_std\n",
      "\t\t\t0.3047843082109695\n",
      "\t\tacc_src_std\n",
      "\t\t\t0.21279016735772108\n",
      "\t\tacc_tgt_in_std\n",
      "\t\t\t0.3047843082109695\n",
      "\tCLIPCondCAD_lambda_1e-2\n",
      "\t\tacc_tgt\n",
      "\t\t\t92.0771514947144\n",
      "\t\tacc_src\n",
      "\t\t\t96.47309118379134\n",
      "\t\tacc_tgt_in\n",
      "\t\t\t92.0771514947144\n",
      "\t\tacc_diff\n",
      "\t\t\t4.39593968907694\n",
      "\t\tacc_tgt_std\n",
      "\t\t\t0.3244192850671674\n",
      "\t\tacc_src_std\n",
      "\t\t\t0.24639501394550897\n",
      "\t\tacc_tgt_in_std\n",
      "\t\t\t0.3244192850671674\n",
      "VLCS\n",
      "\tCLIPPretrained\n",
      "\t\tacc_tgt\n",
      "\t\t\t81.08320767212291\n",
      "\t\tacc_src\n",
      "\t\t\t88.30551930040173\n",
      "\t\tacc_tgt_in\n",
      "\t\t\t81.08320767212291\n",
      "\t\tacc_diff\n",
      "\t\t\t7.222311628278817\n",
      "\t\tacc_tgt_std\n",
      "\t\t\t0.4956796202013862\n",
      "\t\tacc_src_std\n",
      "\t\t\t0.2927194264231173\n",
      "\t\tacc_tgt_in_std\n",
      "\t\t\t0.4956796202013862\n",
      "\tCLIPBase\n",
      "\t\tacc_tgt\n",
      "\t\t\t81.61146330028173\n",
      "\t\tacc_src\n",
      "\t\t\t88.28971915197448\n",
      "\t\tacc_tgt_in\n",
      "\t\t\t81.61146330028173\n",
      "\t\tacc_diff\n",
      "\t\t\t6.678255851692754\n",
      "\t\tacc_tgt_std\n",
      "\t\t\t0.586571931932932\n",
      "\t\tacc_src_std\n",
      "\t\t\t0.36732089607441376\n",
      "\t\tacc_tgt_in_std\n",
      "\t\t\t0.586571931932932\n",
      "\tCLIPCondCAD_lambda_1e-2\n",
      "\t\tacc_tgt\n",
      "\t\t\t82.31295129191687\n",
      "\t\tacc_src\n",
      "\t\t\t88.32612540704373\n",
      "\t\tacc_tgt_in\n",
      "\t\t\t82.31295129191687\n",
      "\t\tacc_diff\n",
      "\t\t\t6.0131741151268585\n",
      "\t\tacc_tgt_std\n",
      "\t\t\t0.3673763280235257\n",
      "\t\tacc_src_std\n",
      "\t\t\t0.3879888162985464\n",
      "\t\tacc_tgt_in_std\n",
      "\t\t\t0.3673763280235257\n",
      "OfficeHome\n",
      "\tCLIPPretrained\n",
      "\t\tacc_tgt\n",
      "\t\t\t70.59112781571571\n",
      "\t\tacc_src\n",
      "\t\t\t82.99553683700755\n",
      "\t\tacc_tgt_in\n",
      "\t\t\t70.59112781571571\n",
      "\t\tacc_diff\n",
      "\t\t\t12.40440902129184\n",
      "\t\tacc_tgt_std\n",
      "\t\t\t0.10975429982239646\n",
      "\t\tacc_src_std\n",
      "\t\t\t0.3990636611258384\n",
      "\t\tacc_tgt_in_std\n",
      "\t\t\t0.10975429982239646\n",
      "\tCLIPBase\n",
      "\t\tacc_tgt\n",
      "\t\t\t70.62497942117086\n",
      "\t\tacc_src\n",
      "\t\t\t82.44184029634587\n",
      "\t\tacc_tgt_in\n",
      "\t\t\t70.62497942117086\n",
      "\t\tacc_diff\n",
      "\t\t\t11.81686087517501\n",
      "\t\tacc_tgt_std\n",
      "\t\t\t0.5077470210964865\n",
      "\t\tacc_src_std\n",
      "\t\t\t0.5627243518326843\n",
      "\t\tacc_tgt_in_std\n",
      "\t\t\t0.5077470210964865\n",
      "\tCLIPCondCAD_lambda_1e-2\n",
      "\t\tacc_tgt\n",
      "\t\t\t71.29120956552288\n",
      "\t\tacc_src\n",
      "\t\t\t83.26842517059173\n",
      "\t\tacc_tgt_in\n",
      "\t\t\t71.29120956552288\n",
      "\t\tacc_diff\n",
      "\t\t\t11.97721560506885\n",
      "\t\tacc_tgt_std\n",
      "\t\t\t0.40203434923825515\n",
      "\t\tacc_src_std\n",
      "\t\t\t0.3800134425497446\n",
      "\t\tacc_tgt_in_std\n",
      "\t\t\t0.40203434923825515\n",
      "TerraIncognita\n",
      "\tCLIPPretrained\n",
      "\t\tacc_tgt\n",
      "\t\t\t29.163298624760674\n",
      "\t\tacc_src\n",
      "\t\t\t77.44625291721128\n",
      "\t\tacc_tgt_in\n",
      "\t\t\t29.163298624760674\n",
      "\t\tacc_diff\n",
      "\t\t\t48.28295429245061\n",
      "\t\tacc_tgt_std\n",
      "\t\t\t0.6979513100717935\n",
      "\t\tacc_src_std\n",
      "\t\t\t0.4750910934006423\n",
      "\t\tacc_tgt_in_std\n",
      "\t\t\t0.6979513100717935\n",
      "\tCLIPBase\n",
      "\t\tacc_tgt\n",
      "\t\t\t36.15050085042984\n",
      "\t\tacc_src\n",
      "\t\t\t81.79857756786465\n",
      "\t\tacc_tgt_in\n",
      "\t\t\t36.15050085042984\n",
      "\t\tacc_diff\n",
      "\t\t\t45.64807671743481\n",
      "\t\tacc_tgt_std\n",
      "\t\t\t1.3640606035749065\n",
      "\t\tacc_src_std\n",
      "\t\t\t1.113707176312733\n",
      "\t\tacc_tgt_in_std\n",
      "\t\t\t1.3640606035749065\n",
      "\tCLIPCondCAD_lambda_1e-2\n",
      "\t\tacc_tgt\n",
      "\t\t\t36.023070949408456\n",
      "\t\tacc_src\n",
      "\t\t\t81.54900437296808\n",
      "\t\tacc_tgt_in\n",
      "\t\t\t36.023070949408456\n",
      "\t\tacc_diff\n",
      "\t\t\t45.52593342355963\n",
      "\t\tacc_tgt_std\n",
      "\t\t\t1.4117930997608088\n",
      "\t\tacc_src_std\n",
      "\t\t\t0.783199866555975\n",
      "\t\tacc_tgt_in_std\n",
      "\t\t\t1.4117930997608088\n",
      "DomainNet\n",
      "\tCLIPPretrained\n",
      "\t\tacc_tgt\n",
      "\t\t\t47.6189812152598\n",
      "\t\tacc_src\n",
      "\t\t\t62.87959081715122\n",
      "\t\tacc_tgt_in\n",
      "\t\t\t47.6189812152598\n",
      "\t\tacc_diff\n",
      "\t\t\t15.260609601891417\n",
      "\t\tacc_tgt_std\n",
      "\t\t\t0.06154726650389624\n",
      "\t\tacc_src_std\n",
      "\t\t\t0.12387007172191378\n",
      "\t\tacc_tgt_in_std\n",
      "\t\t\t0.06154726650389624\n",
      "\tCLIPBase\n",
      "\t\tacc_tgt\n",
      "\t\t\t46.72584007380131\n",
      "\t\tacc_src\n",
      "\t\t\t64.20719432338439\n",
      "\t\tacc_tgt_in\n",
      "\t\t\t46.72584007380131\n",
      "\t\tacc_diff\n",
      "\t\t\t17.481354249583077\n",
      "\t\tacc_tgt_std\n",
      "\t\t\t0.18325705361093206\n",
      "\t\tacc_src_std\n",
      "\t\t\t0.5812715164004125\n",
      "\t\tacc_tgt_in_std\n",
      "\t\t\t0.18325705361093206\n",
      "\tCLIPCondCAD_lambda_1\n",
      "\t\tacc_tgt\n",
      "\t\t\t48.70304891621407\n",
      "\t\tacc_src\n",
      "\t\t\t63.76330406630386\n",
      "\t\tacc_tgt_in\n",
      "\t\t\t48.70304891621407\n",
      "\t\tacc_diff\n",
      "\t\t\t15.060255150089787\n",
      "\t\tacc_tgt_std\n",
      "\t\t\t0.1717753190084366\n",
      "\t\tacc_src_std\n",
      "\t\t\t0.7221452979930005\n",
      "\t\tacc_tgt_in_std\n",
      "\t\t\t0.1717753190084366\n"
     ]
    }
   ],
   "source": [
    "pretty(resnet_result_dict)"
   ]
  },
  {
   "cell_type": "markdown",
   "id": "aware-jacob",
   "metadata": {},
   "source": [
    "Result with CLIP-ViT-B/32 (CLIP L in our paper):"
   ]
  },
  {
   "cell_type": "code",
   "execution_count": 7,
   "id": "b736ed34",
   "metadata": {},
   "outputs": [
    {
     "name": "stdout",
     "output_type": "stream",
     "text": [
      "./checkpoints/PACS/clip_vit/CLIPPretrained/base\n",
      "Loading records from: ./checkpoints/PACS/clip_vit/CLIPPretrained/base\n"
     ]
    },
    {
     "name": "stderr",
     "output_type": "stream",
     "text": [
      "                                                                                \r"
     ]
    },
    {
     "name": "stdout",
     "output_type": "stream",
     "text": [
      "Total records: 20\n",
      "./checkpoints/PACS/clip_vit/SupCLIPBottleneckBase/base\n",
      "Loading records from: ./checkpoints/PACS/clip_vit/SupCLIPBottleneckBase/base\n"
     ]
    },
    {
     "name": "stderr",
     "output_type": "stream",
     "text": [
      "                                                                                \r"
     ]
    },
    {
     "name": "stdout",
     "output_type": "stream",
     "text": [
      "Total records: 2000\n",
      "Loading records from: ./checkpoints/PACS/clip_vit/SupCLIPBottleneckCondCAD/lambda_1e-2\n"
     ]
    },
    {
     "name": "stderr",
     "output_type": "stream",
     "text": [
      "                                                                                \r"
     ]
    },
    {
     "name": "stdout",
     "output_type": "stream",
     "text": [
      "Total records: 2000\n",
      "./checkpoints/VLCS/clip_vit/CLIPPretrained/base\n",
      "Loading records from: ./checkpoints/VLCS/clip_vit/CLIPPretrained/base\n"
     ]
    },
    {
     "name": "stderr",
     "output_type": "stream",
     "text": [
      "                                                                                \r"
     ]
    },
    {
     "name": "stdout",
     "output_type": "stream",
     "text": [
      "Total records: 20\n",
      "./checkpoints/VLCS/clip_vit/SupCLIPBottleneckBase/base\n",
      "Loading records from: ./checkpoints/VLCS/clip_vit/SupCLIPBottleneckBase/base\n"
     ]
    },
    {
     "name": "stderr",
     "output_type": "stream",
     "text": [
      "                                                                                \r"
     ]
    },
    {
     "name": "stdout",
     "output_type": "stream",
     "text": [
      "Total records: 2000\n",
      "Loading records from: ./checkpoints/VLCS/clip_vit/SupCLIPBottleneckCondCAD/lambda_1e-2\n"
     ]
    },
    {
     "name": "stderr",
     "output_type": "stream",
     "text": [
      "                                                                                \r"
     ]
    },
    {
     "name": "stdout",
     "output_type": "stream",
     "text": [
      "Total records: 2000\n",
      "./checkpoints/OfficeHome/clip_vit/CLIPPretrained/base\n",
      "Loading records from: ./checkpoints/OfficeHome/clip_vit/CLIPPretrained/base\n"
     ]
    },
    {
     "name": "stderr",
     "output_type": "stream",
     "text": [
      "                                                                                \r"
     ]
    },
    {
     "name": "stdout",
     "output_type": "stream",
     "text": [
      "Total records: 20\n",
      "./checkpoints/OfficeHome/clip_vit/SupCLIPBottleneckBase/base\n",
      "Loading records from: ./checkpoints/OfficeHome/clip_vit/SupCLIPBottleneckBase/base\n"
     ]
    },
    {
     "name": "stderr",
     "output_type": "stream",
     "text": [
      "                                                                                \r"
     ]
    },
    {
     "name": "stdout",
     "output_type": "stream",
     "text": [
      "Total records: 200\n",
      "Loading records from: ./checkpoints/OfficeHome/clip_vit/SupCLIPBottleneckCondCAD/lambda_1e-2\n"
     ]
    },
    {
     "name": "stderr",
     "output_type": "stream",
     "text": [
      "                                                                                \r"
     ]
    },
    {
     "name": "stdout",
     "output_type": "stream",
     "text": [
      "Total records: 200\n",
      "./checkpoints/TerraIncognita/clip_vit/CLIPPretrained/base\n",
      "Loading records from: ./checkpoints/TerraIncognita/clip_vit/CLIPPretrained/base\n"
     ]
    },
    {
     "name": "stderr",
     "output_type": "stream",
     "text": [
      "                                                                                \r"
     ]
    },
    {
     "name": "stdout",
     "output_type": "stream",
     "text": [
      "Total records: 20\n",
      "./checkpoints/TerraIncognita/clip_vit/SupCLIPBottleneckBase/base\n",
      "Loading records from: ./checkpoints/TerraIncognita/clip_vit/SupCLIPBottleneckBase/base\n"
     ]
    },
    {
     "name": "stderr",
     "output_type": "stream",
     "text": [
      "                                                                                \r"
     ]
    },
    {
     "name": "stdout",
     "output_type": "stream",
     "text": [
      "Total records: 2015\n",
      "Loading records from: ./checkpoints/TerraIncognita/clip_vit/SupCLIPBottleneckCondCAD/lambda_1e-2\n"
     ]
    },
    {
     "name": "stderr",
     "output_type": "stream",
     "text": [
      "                                                                                \r"
     ]
    },
    {
     "name": "stdout",
     "output_type": "stream",
     "text": [
      "Total records: 2008\n",
      "./checkpoints/DomainNet/clip_vit/CLIPPretrained/base\n",
      "Loading records from: ./checkpoints/DomainNet/clip_vit/CLIPPretrained/base\n"
     ]
    },
    {
     "name": "stderr",
     "output_type": "stream",
     "text": [
      "                                                                                \r"
     ]
    },
    {
     "name": "stdout",
     "output_type": "stream",
     "text": [
      "Total records: 30\n",
      "./checkpoints/DomainNet/clip_vit/SupCLIPBottleneckBase/base\n",
      "Loading records from: ./checkpoints/DomainNet/clip_vit/SupCLIPBottleneckBase/base\n"
     ]
    },
    {
     "name": "stderr",
     "output_type": "stream",
     "text": [
      "                                                                                \r"
     ]
    },
    {
     "name": "stdout",
     "output_type": "stream",
     "text": [
      "Total records: 300\n",
      "Loading records from: ./checkpoints/DomainNet/clip_vit/SupCLIPBottleneckCondCAD/lambda_1e-1\n"
     ]
    },
    {
     "name": "stderr",
     "output_type": "stream",
     "text": [
      "                                                                                "
     ]
    },
    {
     "name": "stdout",
     "output_type": "stream",
     "text": [
      "Total records: 300\n"
     ]
    },
    {
     "name": "stderr",
     "output_type": "stream",
     "text": [
      "\r"
     ]
    }
   ],
   "source": [
    "vit_result_dict = get_result('clip_vit')"
   ]
  },
  {
   "cell_type": "code",
   "execution_count": 8,
   "id": "rotary-struggle",
   "metadata": {},
   "outputs": [
    {
     "name": "stdout",
     "output_type": "stream",
     "text": [
      "PACS\n",
      "\tCLIPPretrained\n",
      "\t\tacc_tgt\n",
      "\t\t\t93.73387326180165\n",
      "\t\tacc_src\n",
      "\t\t\t97.6605702243746\n",
      "\t\tacc_tgt_in\n",
      "\t\t\t93.73387326180165\n",
      "\t\tacc_diff\n",
      "\t\t\t3.9266969625729473\n",
      "\t\tacc_tgt_std\n",
      "\t\t\t0.7873557873662019\n",
      "\t\tacc_src_std\n",
      "\t\t\t0.21480970079835698\n",
      "\t\tacc_tgt_in_std\n",
      "\t\t\t0.7873557873662019\n",
      "\tCLIPBase\n",
      "\t\tacc_tgt\n",
      "\t\t\t94.4970899368186\n",
      "\t\tacc_src\n",
      "\t\t\t97.7024309957262\n",
      "\t\tacc_tgt_in\n",
      "\t\t\t94.4970899368186\n",
      "\t\tacc_diff\n",
      "\t\t\t3.2053410589076066\n",
      "\t\tacc_tgt_std\n",
      "\t\t\t0.5086543006149403\n",
      "\t\tacc_src_std\n",
      "\t\t\t0.15615126934468956\n",
      "\t\tacc_tgt_in_std\n",
      "\t\t\t0.5086543006149403\n",
      "\tCLIPCondCAD_lambda_1e-2\n",
      "\t\tacc_tgt\n",
      "\t\t\t94.91006600764807\n",
      "\t\tacc_src\n",
      "\t\t\t97.67439343762041\n",
      "\t\tacc_tgt_in\n",
      "\t\t\t94.91006600764807\n",
      "\t\tacc_diff\n",
      "\t\t\t2.76432742997234\n",
      "\t\tacc_tgt_std\n",
      "\t\t\t0.3726537740856946\n",
      "\t\tacc_src_std\n",
      "\t\t\t0.21211662935990824\n",
      "\t\tacc_tgt_in_std\n",
      "\t\t\t0.3726537740856946\n",
      "VLCS\n",
      "\tCLIPPretrained\n",
      "\t\tacc_tgt\n",
      "\t\t\t80.5326710462202\n",
      "\t\tacc_src\n",
      "\t\t\t88.47919536759268\n",
      "\t\tacc_tgt_in\n",
      "\t\t\t80.5326710462202\n",
      "\t\tacc_diff\n",
      "\t\t\t7.946524321372479\n",
      "\t\tacc_tgt_std\n",
      "\t\t\t0.3979490265240089\n",
      "\t\tacc_src_std\n",
      "\t\t\t0.5795521728529099\n",
      "\t\tacc_tgt_in_std\n",
      "\t\t\t0.3979490265240089\n",
      "\tCLIPBase\n",
      "\t\tacc_tgt\n",
      "\t\t\t81.12786501976247\n",
      "\t\tacc_src\n",
      "\t\t\t88.1770516253463\n",
      "\t\tacc_tgt_in\n",
      "\t\t\t81.12786501976247\n",
      "\t\tacc_diff\n",
      "\t\t\t7.049186605583827\n",
      "\t\tacc_tgt_std\n",
      "\t\t\t0.42247125489048654\n",
      "\t\tacc_src_std\n",
      "\t\t\t0.6512032968675318\n",
      "\t\tacc_tgt_in_std\n",
      "\t\t\t0.42247125489048654\n",
      "\tCLIPCondCAD_lambda_1e-2\n",
      "\t\tacc_tgt\n",
      "\t\t\t81.65417850963367\n",
      "\t\tacc_src\n",
      "\t\t\t88.34559440030526\n",
      "\t\tacc_tgt_in\n",
      "\t\t\t81.65417850963367\n",
      "\t\tacc_diff\n",
      "\t\t\t6.691415890671593\n",
      "\t\tacc_tgt_std\n",
      "\t\t\t0.5975442765900093\n",
      "\t\tacc_src_std\n",
      "\t\t\t0.518810832804625\n",
      "\t\tacc_tgt_in_std\n",
      "\t\t\t0.5975442765900093\n",
      "OfficeHome\n",
      "\tCLIPPretrained\n",
      "\t\tacc_tgt\n",
      "\t\t\t79.86218265166836\n",
      "\t\tacc_src\n",
      "\t\t\t87.10878443596981\n",
      "\t\tacc_tgt_in\n",
      "\t\t\t79.86218265166836\n",
      "\t\tacc_diff\n",
      "\t\t\t7.246601784301447\n",
      "\t\tacc_tgt_std\n",
      "\t\t\t0.13356547435796354\n",
      "\t\tacc_src_std\n",
      "\t\t\t0.5069334939101803\n",
      "\t\tacc_tgt_in_std\n",
      "\t\t\t0.13356547435796354\n",
      "\tCLIPBase\n",
      "\t\tacc_tgt\n",
      "\t\t\t79.54280894132296\n",
      "\t\tacc_src\n",
      "\t\t\t86.64284492189367\n",
      "\t\tacc_tgt_in\n",
      "\t\t\t79.54280894132296\n",
      "\t\tacc_diff\n",
      "\t\t\t7.100035980570709\n",
      "\t\tacc_tgt_std\n",
      "\t\t\t0.15962604806058156\n",
      "\t\tacc_src_std\n",
      "\t\t\t0.5206572259887707\n",
      "\t\tacc_tgt_in_std\n",
      "\t\t\t0.15962604806058156\n",
      "\tCLIPCondCAD_lambda_1e-2\n",
      "\t\tacc_tgt\n",
      "\t\t\t80.01601291455212\n",
      "\t\tacc_src\n",
      "\t\t\t87.08644130976454\n",
      "\t\tacc_tgt_in\n",
      "\t\t\t80.01601291455212\n",
      "\t\tacc_diff\n",
      "\t\t\t7.070428395212417\n",
      "\t\tacc_tgt_std\n",
      "\t\t\t0.24261219573606368\n",
      "\t\tacc_src_std\n",
      "\t\t\t0.49830127005248936\n",
      "\t\tacc_tgt_in_std\n",
      "\t\t\t0.24261219573606368\n",
      "TerraIncognita\n",
      "\tCLIPPretrained\n",
      "\t\tacc_tgt\n",
      "\t\t\t36.87546416993365\n",
      "\t\tacc_src\n",
      "\t\t\t78.6180367474785\n",
      "\t\tacc_tgt_in\n",
      "\t\t\t36.87546416993365\n",
      "\t\tacc_diff\n",
      "\t\t\t41.74257257754485\n",
      "\t\tacc_tgt_std\n",
      "\t\t\t0.5894302283246426\n",
      "\t\tacc_src_std\n",
      "\t\t\t0.47839945035042986\n",
      "\t\tacc_tgt_in_std\n",
      "\t\t\t0.5894302283246426\n",
      "\tCLIPBase\n",
      "\t\tacc_tgt\n",
      "\t\t\t40.49495979220939\n",
      "\t\tacc_src\n",
      "\t\t\t81.23713351081932\n",
      "\t\tacc_tgt_in\n",
      "\t\t\t40.49495979220939\n",
      "\t\tacc_diff\n",
      "\t\t\t40.742173718609926\n",
      "\t\tacc_tgt_std\n",
      "\t\t\t0.8473982750208812\n",
      "\t\tacc_src_std\n",
      "\t\t\t1.0409842971360135\n",
      "\t\tacc_tgt_in_std\n",
      "\t\t\t0.8473982750208812\n",
      "\tCLIPCondCAD_lambda_1e-2\n",
      "\t\tacc_tgt\n",
      "\t\t\t40.5482671241862\n",
      "\t\tacc_src\n",
      "\t\t\t80.81368075739995\n",
      "\t\tacc_tgt_in\n",
      "\t\t\t40.5482671241862\n",
      "\t\tacc_diff\n",
      "\t\t\t40.265413633213754\n",
      "\t\tacc_tgt_std\n",
      "\t\t\t0.6291869079826102\n",
      "\t\tacc_src_std\n",
      "\t\t\t0.999533180790735\n",
      "\t\tacc_tgt_in_std\n",
      "\t\t\t0.6291869079826102\n",
      "DomainNet\n",
      "\tCLIPPretrained\n",
      "\t\tacc_tgt\n",
      "\t\t\t52.80008673343433\n",
      "\t\tacc_src\n",
      "\t\t\t67.85891491971817\n",
      "\t\tacc_tgt_in\n",
      "\t\t\t52.80008673343433\n",
      "\t\tacc_diff\n",
      "\t\t\t15.058828186283847\n",
      "\t\tacc_tgt_std\n",
      "\t\t\t0.07588928195051654\n",
      "\t\tacc_src_std\n",
      "\t\t\t0.1003278312073681\n",
      "\t\tacc_tgt_in_std\n",
      "\t\t\t0.07588928195051654\n",
      "\tCLIPBase\n",
      "\t\tacc_tgt\n",
      "\t\t\t52.42590983653479\n",
      "\t\tacc_src\n",
      "\t\t\t68.54190924188535\n",
      "\t\tacc_tgt_in\n",
      "\t\t\t52.42590983653479\n",
      "\t\tacc_diff\n",
      "\t\t\t16.115999405350557\n",
      "\t\tacc_tgt_std\n",
      "\t\t\t0.05861734417169374\n",
      "\t\tacc_src_std\n",
      "\t\t\t0.49741372221547236\n",
      "\t\tacc_tgt_in_std\n",
      "\t\t\t0.05861734417169374\n",
      "\tCLIPCondCAD_lambda_1e-1\n",
      "\t\tacc_tgt\n",
      "\t\t\t53.702561374535584\n",
      "\t\tacc_src\n",
      "\t\t\t68.14717992304726\n",
      "\t\tacc_tgt_in\n",
      "\t\t\t53.702561374535584\n",
      "\t\tacc_diff\n",
      "\t\t\t14.444618548511677\n",
      "\t\tacc_tgt_std\n",
      "\t\t\t0.16162996450615064\n",
      "\t\tacc_src_std\n",
      "\t\t\t0.2437424109978118\n",
      "\t\tacc_tgt_in_std\n",
      "\t\t\t0.16162996450615064\n"
     ]
    }
   ],
   "source": [
    "pretty(vit_result_dict)"
   ]
  },
  {
   "cell_type": "markdown",
   "id": "e3f78ece",
   "metadata": {},
   "source": [
    "# Plot Results"
   ]
  },
  {
   "cell_type": "code",
   "execution_count": 9,
   "id": "098eca7f",
   "metadata": {},
   "outputs": [],
   "source": [
    "def plot_result(result_dict, plot_dataset, plot_y='acc_tgt', include=None, exclude=None, plot_std=False):\n",
    "    plt.figure()\n",
    "    sub_result_dict = result_dict[plot_dataset]\n",
    "    plt_xs = []\n",
    "    plt_ys = []\n",
    "    plt_errs = []\n",
    "    \n",
    "    for k, v in sub_result_dict.items():\n",
    "        subsub_result_dict = sub_result_dict[k]\n",
    "        \n",
    "        if include is not None and k not in include:\n",
    "            continue\n",
    "            \n",
    "        if exclude is not None and k in exclude:\n",
    "            continue\n",
    "            \n",
    "        plt_xs.append(k.replace('_', '\\n'))\n",
    "        plt_ys.append(subsub_result_dict[plot_y])\n",
    "        plt_errs.append(subsub_result_dict[plot_y + '_std'])\n",
    "    \n",
    "    \n",
    "    if not plot_std:\n",
    "        plt.bar(plt_xs, plt_ys)\n",
    "    else:\n",
    "        plt.bar(plt_xs, plt_ys, yerr=plt_errs)\n",
    "        \n",
    "    for plt_x, plt_y, plt_err in zip(plt_xs, plt_ys, plt_errs):\n",
    "        plt.text(plt_x, plt_y + .25, '{:.1f} +/- {:.1f}'.format(plt_y, plt_err) , color='blue', fontweight='bold')\n",
    "            \n",
    "    \n",
    "    plt.xlabel('Method')\n",
    "    plt.ylabel('Accuracy')\n",
    "    plt.ylim([np.min(plt_ys)-0.5, np.max(plt_ys)+0.5])\n",
    "        \n",
    "    plt.show()"
   ]
  },
  {
   "cell_type": "markdown",
   "id": "unlikely-render",
   "metadata": {},
   "source": [
    "Visualize the results. Note that the results may be slightly different from the paper due to code cleaning. \n",
    "\n",
    "Finetuning without bottlenecks (CLIPBase) could be worse than CLIPPretrained due to overfitting to source domains, while finetuning with bottlenecks (CLIPCondCAD) leads to consistent improvement."
   ]
  },
  {
   "cell_type": "markdown",
   "id": "367072c3",
   "metadata": {},
   "source": [
    "# DomainNet"
   ]
  },
  {
   "cell_type": "markdown",
   "id": "therapeutic-bruce",
   "metadata": {},
   "source": [
    "CAD leads to significant improvments on DomainNet."
   ]
  },
  {
   "cell_type": "code",
   "execution_count": 10,
   "id": "37ddb89b",
   "metadata": {
    "scrolled": true
   },
   "outputs": [
    {
     "data": {
      "image/png": "[encoded data removed]",
      "text/plain": [
       "<Figure size 432x288 with 1 Axes>"
      ]
     },
     "metadata": {
      "needs_background": "light"
     },
     "output_type": "display_data"
    }
   ],
   "source": [
    "plot_result(resnet_result_dict, plot_dataset='DomainNet', plot_y='acc_tgt', \n",
    "            exclude=None, plot_std=True)"
   ]
  },
  {
   "cell_type": "code",
   "execution_count": 11,
   "id": "0ac4d0b3",
   "metadata": {
    "scrolled": true
   },
   "outputs": [
    {
     "data": {
      "image/png": "[encoded data removed]",
      "text/plain": [
       "<Figure size 432x288 with 1 Axes>"
      ]
     },
     "metadata": {
      "needs_background": "light"
     },
     "output_type": "display_data"
    }
   ],
   "source": [
    "plot_result(vit_result_dict, plot_dataset='DomainNet', plot_y='acc_tgt', \n",
    "            exclude=None, plot_std=True)"
   ]
  },
  {
   "cell_type": "markdown",
   "id": "4d8e7440",
   "metadata": {},
   "source": [
    "## VLCS"
   ]
  },
  {
   "cell_type": "code",
   "execution_count": 12,
   "id": "7045a46b",
   "metadata": {},
   "outputs": [
    {
     "data": {
      "image/png": "[encoded data removed]",
      "text/plain": [
       "<Figure size 432x288 with 1 Axes>"
      ]
     },
     "metadata": {
      "needs_background": "light"
     },
     "output_type": "display_data"
    }
   ],
   "source": [
    "plot_result(resnet_result_dict, plot_dataset='VLCS', plot_y='acc_tgt', \n",
    "            exclude=None, plot_std=True)"
   ]
  },
  {
   "cell_type": "code",
   "execution_count": 13,
   "id": "2ab13a3f",
   "metadata": {},
   "outputs": [
    {
     "data": {
      "image/png": "[encoded data removed]",
      "text/plain": [
       "<Figure size 432x288 with 1 Axes>"
      ]
     },
     "metadata": {
      "needs_background": "light"
     },
     "output_type": "display_data"
    }
   ],
   "source": [
    "plot_result(vit_result_dict, plot_dataset='VLCS', plot_y='acc_tgt', \n",
    "            exclude=None, plot_std=True)"
   ]
  },
  {
   "cell_type": "markdown",
   "id": "c3624a38",
   "metadata": {},
   "source": [
    "## PACS"
   ]
  },
  {
   "cell_type": "code",
   "execution_count": 14,
   "id": "346fa449",
   "metadata": {},
   "outputs": [
    {
     "data": {
      "image/png": "[encoded data removed]",
      "text/plain": [
       "<Figure size 432x288 with 1 Axes>"
      ]
     },
     "metadata": {
      "needs_background": "light"
     },
     "output_type": "display_data"
    }
   ],
   "source": [
    "plot_result(resnet_result_dict, plot_dataset='PACS', plot_y='acc_tgt', \n",
    "            exclude=None, plot_std=True)"
   ]
  },
  {
   "cell_type": "code",
   "execution_count": 15,
   "id": "92080d30",
   "metadata": {},
   "outputs": [
    {
     "data": {
      "image/png": "[encoded data removed]",
      "text/plain": [
       "<Figure size 432x288 with 1 Axes>"
      ]
     },
     "metadata": {
      "needs_background": "light"
     },
     "output_type": "display_data"
    }
   ],
   "source": [
    "plot_result(vit_result_dict, plot_dataset='PACS', plot_y='acc_tgt', \n",
    "            exclude=None, plot_std=True)"
   ]
  },
  {
   "cell_type": "markdown",
   "id": "563a051b",
   "metadata": {},
   "source": [
    "## OfficeHome"
   ]
  },
  {
   "cell_type": "code",
   "execution_count": 16,
   "id": "bcb1e4e3",
   "metadata": {},
   "outputs": [
    {
     "data": {
      "image/png": "[encoded data removed]",
      "text/plain": [
       "<Figure size 432x288 with 1 Axes>"
      ]
     },
     "metadata": {
      "needs_background": "light"
     },
     "output_type": "display_data"
    }
   ],
   "source": [
    "plot_result(resnet_result_dict, plot_dataset='OfficeHome', plot_y='acc_tgt', \n",
    "            exclude=None, plot_std=True)"
   ]
  },
  {
   "cell_type": "code",
   "execution_count": 17,
   "id": "04c8f35e",
   "metadata": {},
   "outputs": [
    {
     "data": {
      "image/png": "[encoded data removed]",
      "text/plain": [
       "<Figure size 432x288 with 1 Axes>"
      ]
     },
     "metadata": {
      "needs_background": "light"
     },
     "output_type": "display_data"
    }
   ],
   "source": [
    "plot_result(vit_result_dict, plot_dataset='OfficeHome', plot_y='acc_tgt', \n",
    "            exclude=None, plot_std=True)"
   ]
  },
  {
   "cell_type": "markdown",
   "id": "3cace334",
   "metadata": {},
   "source": [
    "## TerraIncognita"
   ]
  },
  {
   "cell_type": "markdown",
   "id": "premium-myanmar",
   "metadata": {},
   "source": [
    "The poor performance on TerraIncognita is likely because CLIP's dataset does not cover such images (camera traps monitoring animals)."
   ]
  },
  {
   "cell_type": "code",
   "execution_count": 18,
   "id": "77bc9684",
   "metadata": {},
   "outputs": [
    {
     "data": {
      "image/png": "[encoded data removed]",
      "text/plain": [
       "<Figure size 432x288 with 1 Axes>"
      ]
     },
     "metadata": {
      "needs_background": "light"
     },
     "output_type": "display_data"
    }
   ],
   "source": [
    "plot_result(resnet_result_dict, plot_dataset='TerraIncognita', plot_y='acc_tgt', \n",
    "            exclude=None, plot_std=True)"
   ]
  },
  {
   "cell_type": "code",
   "execution_count": 19,
   "id": "8e48e8f7",
   "metadata": {},
   "outputs": [
    {
     "data": {
      "image/png": "[encoded data removed]",
      "text/plain": [
       "<Figure size 432x288 with 1 Axes>"
      ]
     },
     "metadata": {
      "needs_background": "light"
     },
     "output_type": "display_data"
    }
   ],
   "source": [
    "plot_result(vit_result_dict, plot_dataset='TerraIncognita', plot_y='acc_tgt', \n",
    "            exclude=None, plot_std=True)"
   ]
  },
  {
   "cell_type": "code",
   "execution_count": null,
   "id": "phantom-broadcasting",
   "metadata": {},
   "outputs": [],
   "source": []
  }
 ],
 "metadata": {
  "kernelspec": {
   "display_name": "optdom",
   "language": "python",
   "name": "optdom"
  },
  "language_info": {
   "codemirror_mode": {
    "name": "ipython",
    "version": 3
   },
   "file_extension": ".py",
   "mimetype": "text/x-python",
   "name": "python",
   "nbconvert_exporter": "python",
   "pygments_lexer": "ipython3",
   "version": "3.7.10"
  }
 },
 "nbformat": 4,
 "nbformat_minor": 5
}
